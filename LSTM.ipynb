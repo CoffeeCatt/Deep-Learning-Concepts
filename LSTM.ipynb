{
 "cells": [
  {
   "cell_type": "code",
   "execution_count": 3,
   "metadata": {},
   "outputs": [],
   "source": [
    "import torch\n",
    "import torch.nn as nn"
   ]
  },
  {
   "cell_type": "markdown",
   "metadata": {},
   "source": [
    "Gates input(x_t, h_{t-1}) activation: sigma\n",
    "i_t: input gate\n",
    "f_t: forget gate\n",
    "o_t: output gate\n",
    "\n",
    "Content:\n",
    "g_t: input tanh --> i_t\n",
    "c_{t-1}: cell--> f_t\n",
    "c_t = g_t*i_t+ c_{t-1}*f_t \n",
    "h_t = o_t * tanh(c_t)\n",
    "\n",
    "\n",
    "nn.LSTM(input_dim, output_dim) can take any sequence length as input \n",
    "output: representation for each word in seq_len\n",
    "hidden: concrete representation for all words"
   ]
  },
  {
   "cell_type": "code",
   "execution_count": 5,
   "metadata": {},
   "outputs": [],
   "source": [
    "lstm = nn.LSTM(3, 3)  # Input dim is 3, output dim is 3\n",
    "# input_shape :(seq_len, batch_size, input_size)(5,1,3)\n",
    "inputs = [torch.randn(1, 3) for _ in range(5)]  # make a sequence of length 5\n",
    "\n",
    "# Variables:\n",
    "# weight_ih_l (W_ii|W_if|W_ig|W_io),  (4*hidden_size, input_size) for k = 0. \n",
    "# Otherwise, the shape is (4*hidden_size, num_directions * hidden_size)\n",
    "\n",
    "# weight_hh_l (W_hi|W_hf|W_hg|W_ho), (4*hidden_size, hidden_size). \n",
    "\n",
    "# bias_ih_l (b_ii|b_if|b_ig|b_io), (4*hidden_size)\n",
    "\n",
    "# bias_hh_l (b_hi|b_hf|b_hg|b_ho), (4*hidden_size)\n",
    "\n",
    "# h0,c0 : (num_layers*num_direction, batch_size, input_size)\n",
    "\n",
    "hidden = (torch.randn(1, 1, 3),\n",
    "          torch.randn(1, 1, 3))\n",
    "\n",
    "# output: (seq_len, batch, num_directions * hidden_size) \n",
    "# h_n: (num_layers * num_directions, batch, hidden_size)\n",
    "for i in inputs:\n",
    "    # Step through the sequence one element at a time.\n",
    "    # after each step, hidden contains the hidden state.\n",
    "    out, hidden = lstm(i.view(1, 1, -1), hidden)"
   ]
  },
  {
   "cell_type": "code",
   "execution_count": 6,
   "metadata": {},
   "outputs": [
    {
     "name": "stdout",
     "output_type": "stream",
     "text": [
      "tensor([[[-0.1899, -0.0311,  0.4058]],\n",
      "\n",
      "        [[-0.1265,  0.1133,  0.1596]],\n",
      "\n",
      "        [[-0.0568,  0.2319, -0.0251]],\n",
      "\n",
      "        [[-0.1389,  0.0803,  0.3579]],\n",
      "\n",
      "        [[-0.1157,  0.1794,  0.4187]]], grad_fn=<StackBackward>)\n",
      "(tensor([[[-0.1157,  0.1794,  0.4187]]], grad_fn=<StackBackward>), tensor([[[-0.1769,  0.3773,  0.6410]]], grad_fn=<StackBackward>))\n"
     ]
    }
   ],
   "source": [
    "# alternatively, we can do the entire sequence all at once.\n",
    "# the first value returned by LSTM is all of the hidden states throughout\n",
    "# the sequence. the second is just the most recent hidden state\n",
    "# (compare the last slice of \"out\" with \"hidden\" below, they are the same)\n",
    "inputs = torch.cat(inputs).view(len(inputs), 1, -1)\n",
    "hidden = (torch.randn(1, 1, 3), torch.randn(1, 1, 3))  # clean out hidden state\n",
    "out, hidden = lstm(inputs, hidden)\n",
    "print(out)\n",
    "print(hidden)"
   ]
  }
 ],
 "metadata": {
  "kernelspec": {
   "display_name": "Python 3",
   "language": "python",
   "name": "python3"
  },
  "language_info": {
   "codemirror_mode": {
    "name": "ipython",
    "version": 3
   },
   "file_extension": ".py",
   "mimetype": "text/x-python",
   "name": "python",
   "nbconvert_exporter": "python",
   "pygments_lexer": "ipython3",
   "version": "3.6.9"
  }
 },
 "nbformat": 4,
 "nbformat_minor": 2
}
