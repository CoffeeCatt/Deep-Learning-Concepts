{
 "cells": [
  {
   "cell_type": "markdown",
   "metadata": {},
   "source": [
    "If not gradient descent--> iteratively reweighted least squares (IRLS)\n",
    "\n",
    "https://cedar.buffalo.edu/~srihari/CSE574/Chap4/4.3.3-IRLS.pdf\n",
    "\n",
    "Newton-Raphson Update:\n",
    "$$x_{n+1} = x_n-[H(f)(x_n)]^{-1}\\nabla f(x_n)$$"
   ]
  },
  {
   "cell_type": "code",
   "execution_count": 1,
   "metadata": {},
   "outputs": [],
   "source": [
    "# Logistic Regression\n",
    "\n",
    "from __future__ import print_function, division\n",
    "import numpy as np\n",
    "import math\n",
    "\n",
    "# \\nabla sigmoid(x) = sigmoid(x)*(1-sigmoid(x))\n",
    "class Sigmoid():\n",
    "    def __call__(self, x):\n",
    "        return 1 / (1 + np.exp(-x))\n",
    "\n",
    "    def gradient(self, x):\n",
    "        return self.__call__(x) * (1 - self.__call__(x))\n",
    "    \n",
    "def make_diagonal(x):\n",
    "    \"\"\" Converts a vector into an diagonal matrix \"\"\"\n",
    "    m = np.zeros((len(x), len(x)))\n",
    "    for i in range(len(m[0])):\n",
    "        m[i, i] = x[i]\n",
    "    return m\n",
    "    \n",
    "class LogisticRegression():\n",
    "    \"\"\" Logistic Regression classifier.\n",
    "    Parameters:\n",
    "    -----------\n",
    "    learning_rate: float\n",
    "        The step length that will be taken when following the negative gradient during\n",
    "        training.\n",
    "    gradient_descent: boolean\n",
    "        True or false depending if gradient descent should be used when training. If\n",
    "        false then we use batch optimization by least squares.\n",
    "    \"\"\"\n",
    "    def __init__(self, learning_rate=.1, gradient_descent=True):\n",
    "        self.param = None\n",
    "        self.learning_rate = learning_rate\n",
    "        self.gradient_descent = gradient_descent\n",
    "        self.sigmoid = Sigmoid()\n",
    "\n",
    "    def _initialize_parameters(self, X):\n",
    "        n_features = np.shape(X)[1]\n",
    "        # Initialize parameters between [-1/sqrt(N), 1/sqrt(N)]\n",
    "        limit = 1 / math.sqrt(n_features)\n",
    "        self.param = np.random.uniform(-limit, limit, (n_features,))\n",
    "\n",
    "    def fit(self, X, y, n_iterations=4000):\n",
    "        self._initialize_parameters(X)\n",
    "        # Tune parameters for n iterations\n",
    "        for i in range(n_iterations):\n",
    "            # Make a new prediction\n",
    "            y_pred = self.sigmoid(X.dot(self.param))\n",
    "            if self.gradient_descent:\n",
    "                # Move against the gradient of the loss function with\n",
    "                # respect to the parameters to minimize the loss\n",
    "                self.param -= self.learning_rate * -(y - y_pred).dot(X)\n",
    "            else: \n",
    "                # Make a diagonal matrix of the sigmoid gradient column vector\n",
    "                diag_gradient = make_diagonal(self.sigmoid.gradient(X.dot(self.param)))\n",
    "                # Batch opt:\n",
    "                self.param = np.linalg.pinv(X.T.dot(diag_gradient).dot(X)).dot(\n",
    "                    X.T).dot(diag_gradient.dot(X).dot(self.param) + y - y_pred)\n",
    "\n",
    "    def predict(self, X):\n",
    "        y_pred = np.round(self.sigmoid(X.dot(self.param))).astype(int)\n",
    "        return y_pred"
   ]
  }
 ],
 "metadata": {
  "kernelspec": {
   "display_name": "Python 3",
   "language": "python",
   "name": "python3"
  },
  "language_info": {
   "codemirror_mode": {
    "name": "ipython",
    "version": 3
   },
   "file_extension": ".py",
   "mimetype": "text/x-python",
   "name": "python",
   "nbconvert_exporter": "python",
   "pygments_lexer": "ipython3",
   "version": "3.6.9"
  }
 },
 "nbformat": 4,
 "nbformat_minor": 2
}
