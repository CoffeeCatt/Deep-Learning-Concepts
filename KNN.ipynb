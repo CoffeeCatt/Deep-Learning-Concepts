{
 "cells": [
  {
   "cell_type": "code",
   "execution_count": 1,
   "metadata": {},
   "outputs": [],
   "source": [
    "from __future__ import print_function, division\n",
    "import numpy as np"
   ]
  },
  {
   "cell_type": "code",
   "execution_count": 2,
   "metadata": {},
   "outputs": [],
   "source": [
    "def euclidean_distance(x1, x2):\n",
    "    \"\"\" Calculates the l2 distance between two vectors \"\"\"\n",
    "    distance = 0\n",
    "    # Squared distance between each coordinate\n",
    "    for i in range(len(x1)):\n",
    "        distance += pow((x1[i] - x2[i]), 2)\n",
    "    return math.sqrt(distance)"
   ]
  },
  {
   "cell_type": "code",
   "execution_count": null,
   "metadata": {},
   "outputs": [],
   "source": [
    "class KNN():\n",
    "    \"\"\" K Nearest Neighbors classifier.\n",
    "    Parameters:\n",
    "    -----------\n",
    "    k: int\n",
    "        The number of closest neighbors that will determine the class of the \n",
    "        sample that we wish to predict.\n",
    "    \"\"\"\n",
    "    def __init__(self, k=5):\n",
    "        self.k = k\n",
    "\n",
    "    def _vote(self, neighbor_labels):\n",
    "        \"\"\" Return the most common class among the neighbor samples \"\"\"\n",
    "        counts = np.bincount(neighbor_labels.astype('int'))\n",
    "        return counts.argmax()\n",
    "\n",
    "    def predict(self, X_test, X_train, y_train):\n",
    "        y_pred = np.empty(X_test.shape[0])\n",
    "        # Determine the class of each sample\n",
    "        for i, test_sample in enumerate(X_test):\n",
    "            # Sort the training samples by their distance to the test sample and get the K nearest\n",
    "            idx = np.argsort([euclidean_distance(test_sample, x) for x in X_train])[:self.k]\n",
    "            # Extract the labels of the K nearest neighboring training samples\n",
    "            k_nearest_neighbors = np.array([y_train[i] for i in idx])\n",
    "            # Label sample as the most common class label\n",
    "            y_pred[i] = self._vote(k_nearest_neighbors)\n",
    "\n",
    "        return y_pred"
   ]
  }
 ],
 "metadata": {
  "kernelspec": {
   "display_name": "Python 3",
   "language": "python",
   "name": "python3"
  },
  "language_info": {
   "codemirror_mode": {
    "name": "ipython",
    "version": 3
   },
   "file_extension": ".py",
   "mimetype": "text/x-python",
   "name": "python",
   "nbconvert_exporter": "python",
   "pygments_lexer": "ipython3",
   "version": "3.6.9"
  }
 },
 "nbformat": 4,
 "nbformat_minor": 2
}
