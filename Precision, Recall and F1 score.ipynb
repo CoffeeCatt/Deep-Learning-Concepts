{
 "cells": [
  {
   "cell_type": "markdown",
   "id": "urban-second",
   "metadata": {},
   "source": [
    "True Positive, True Negative, False Positive, False Negative:\n",
    "\n",
    "True and False: reflect the correctness of the prediction.\n",
    "\n",
    "Positive and Negative: the answer the model made."
   ]
  },
  {
   "cell_type": "markdown",
   "id": "verified-medicare",
   "metadata": {},
   "source": [
    "Precision = True Positive/(True Positive+False Positive) <-- How many samples predicted as positive are labeled as positive. If precision is high, we are tended to predict as few poitives as possible. --> The model predicts every people as a control sample.\n",
    "\n",
    "Recall = True Positive/(True Positive+False Negative) <-- How many samples labeled as positive are predicted as positive. If recall is high, we are tended to predict as many poitives as possible. --> The model predicts every people as a patient sample.\n",
    "\n",
    "Accuracy = (True Positive + True Negative)/All"
   ]
  },
  {
   "cell_type": "markdown",
   "id": "subject-charm",
   "metadata": {},
   "source": [
    "F1 Score might be a better measure to use if we need to seek a balance between Precision and Recall AND there is an uneven class distribution (large number of Actual Negatives).\n",
    "\n",
    "The F1 score can be interpreted as a harmonic mean of the precision and recall, where an F1 score reaches its best value at 1 and worst score at 0.\n",
    "\n",
    "F1 = 2 * (precision * recall) / (precision + recall)\n",
    "\n",
    "macro average is lower than micro average is well explained by dominating class has better predictions and so the micro average increase."
   ]
  },
  {
   "cell_type": "markdown",
   "id": "infectious-virtue",
   "metadata": {},
   "source": [
    "Class A: 1 TP and 1 FP\n",
    "\n",
    "Class B: 10 TP and 90 FP\n",
    "\n",
    "Class C: 1 TP and 1 FP\n",
    "\n",
    "Class D: 1 TP and 1 FP\n",
    "\n",
    "You can see easily that P(A)= P(C) = P(D)= 0.5, whereas P(B)=0.1.\n",
    "\n",
    "A macro-average will then compute: P = 0.5+0.1+0.5+0.54=0.4\n",
    "\n",
    "A micro-average will compute: P= 1+10+1+12+100+2+2=0.123"
   ]
  },
  {
   "cell_type": "code",
   "execution_count": null,
   "id": "elder-worcester",
   "metadata": {},
   "outputs": [],
   "source": [
    "sklearn.metrics.f1_score(y_true, y_pred, *, labels=None, pos_label=1, average='binary')\n",
    "\n",
    "# average{‘micro’, ‘macro’, ‘samples’,’weighted’, ‘binary’} or None, default=’binary’"
   ]
  }
 ],
 "metadata": {
  "kernelspec": {
   "display_name": "Python 3",
   "language": "python",
   "name": "python3"
  },
  "language_info": {
   "codemirror_mode": {
    "name": "ipython",
    "version": 3
   },
   "file_extension": ".py",
   "mimetype": "text/x-python",
   "name": "python",
   "nbconvert_exporter": "python",
   "pygments_lexer": "ipython3",
   "version": "3.6.8"
  }
 },
 "nbformat": 4,
 "nbformat_minor": 5
}
