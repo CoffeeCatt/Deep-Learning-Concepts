{
 "cells": [
  {
   "cell_type": "markdown",
   "metadata": {},
   "source": [
    "An ROC curve (receiver operating characteristic curve) a classification model at all classification thresholds. \n",
    "\n",
    "This curve plots two parameters:\n",
    "\n",
    "True Positive Rate\n",
    "False Positive Rate\n",
    "True Positive Rate (TPR)=recall:\n",
    "\n",
    "$$TPR = \\frac{TP} {TP + FN}$$\n",
    "\n",
    "False Positive Rate (FPR) is defined as follows:\n",
    "\n",
    "$$FPR = \\frac{FP} {FP + TN}$$\n",
    "An ROC curve plots TPR vs. FPR at different classification thresholds. Lowering the classification threshold classifies more items as positive, thus increasing both False Positives and True Positives.\n",
    "\n",
    "AUC (\"Area under the ROC Curve.\") measures the entire two-dimensional area underneath the entire ROC curve (think integral calculus) from (0,0) to (1,1).\n",
    "\n",
    "AUC is desirable for the following two reasons:\n",
    "\n",
    "- scale-invariant. It measures how well predictions are ranked, rather than their absolute values.\n",
    "- classification-threshold-invariant. It measures the quality of the model's predictions irrespective of what classification threshold is chosen.\n",
    "\n",
    "Caveats:\n",
    "\n",
    "Scale invariance is not always desirable. For example, sometimes we really do need well calibrated probability outputs, and AUC won’t tell us about that.\n",
    "\n",
    "Classification-threshold invariance is not always desirable. In cases where there are wide disparities in the cost of false negatives vs. false positives, it may be critical to minimize one type of classification error. For example, when doing email spam detection, you likely want to prioritize minimizing false positives (even if that results in a significant increase of false negatives). \n",
    "\n",
    "\n",
    "AUCROC can be interpreted as the probability that the scores given by a classifier will rank a randomly chosen positive instance higher than a randomly chosen negative one.\n",
    "\n",
    "\n",
    "On severely imbalanced classification problems."
   ]
  },
  {
   "cell_type": "code",
   "execution_count": 2,
   "metadata": {},
   "outputs": [
    {
     "name": "stdout",
     "output_type": "stream",
     "text": [
      "0.75\n"
     ]
    },
    {
     "data": {
      "image/png": "[encoded data removed]",
      "text/plain": [
       "<Figure size 432x288 with 1 Axes>"
      ]
     },
     "metadata": {
      "needs_background": "light"
     },
     "output_type": "display_data"
    }
   ],
   "source": [
    "import numpy as np\n",
    "from sklearn import metrics\n",
    "from sklearn.metrics import roc_auc_score\n",
    "import matplotlib.pyplot as plt\n",
    "y = np.array([1, 1, 2, 2])\n",
    "scores = np.array([0.1, 0.4, 0.35, 0.8])\n",
    "fpr, tpr, thresholds = metrics.roc_curve(y, scores, pos_label=2)\n",
    "plt.plot(fpr, tpr)\n",
    "print(roc_auc_score(y, scores))"
   ]
  },
  {
   "cell_type": "code",
   "execution_count": 3,
   "metadata": {},
   "outputs": [
    {
     "data": {
      "image/png": "[encoded data removed]",
      "text/plain": [
       "<Figure size 432x288 with 1 Axes>"
      ]
     },
     "metadata": {
      "needs_background": "light"
     },
     "output_type": "display_data"
    },
    {
     "name": "stdout",
     "output_type": "stream",
     "text": [
      "AUC:Area under the ROC curve is 0.4837\n"
     ]
    }
   ],
   "source": [
    "from scipy.io import loadmat\n",
    "import matplotlib.pyplot as plt\n",
    "from numpy import trapz\n",
    "\n",
    "def confusion_metrics(labels,predictions,threshold):\n",
    "    true_positive=0;\n",
    "    false_positive=0;\n",
    "    true_negative=0;\n",
    "    false_negative=0;\n",
    "    for i in range(len(labels)):\n",
    "        if labels[i]==1:\n",
    "            if predictions[i]>=threshold:\n",
    "                true_positive+=1\n",
    "            else:\n",
    "                false_negative+=1\n",
    "        else:\n",
    "            if predictions[i]>=threshold:\n",
    "                false_positive+=1\n",
    "            else:\n",
    "                true_negative+=1\n",
    "    tpf=true_positive/(true_positive + false_negative)\n",
    "    fpf=false_positive/(false_positive + true_negative)\n",
    "    return tpf,fpf\n",
    "\n",
    "def results(labels,predictions):\n",
    "    TPF=[]\n",
    "    FPF=[]\n",
    "    THRESHOLD=[]\n",
    "    i=0\n",
    "    #increemental step size for threshold\n",
    "    dx_step=0.0002\n",
    "    while(i<=1):\n",
    "        threshold=i\n",
    "        tpf,fpf=confusion_metrics(labels,predictions,threshold)\n",
    "        TPF.append(tpf)\n",
    "        FPF.append(fpf)\n",
    "        THRESHOLD.append(threshold)\n",
    "        i+=dx_step\n",
    "        \n",
    "    plt.plot(FPF,TPF)\n",
    "    plt.plot(THRESHOLD,THRESHOLD,'--')\n",
    "    plt.xlabel(\"False Positive fraction (FPF)--->\")\n",
    "    plt.ylabel(\"True Positive fraction (TPF)--->\")\n",
    "    plt.title(\"ROC Curve\")\n",
    "    plt.show()\n",
    "    area = trapz(TPF, dx=dx_step)\n",
    "    print(\"AUC:Area under the ROC curve is\", area)\n",
    "    return\n",
    "        \n",
    "labels=[1,0,0,0,1,1,1]\n",
    "predictions=np.random.uniform(0,1,7)\n",
    "    \n",
    "results(labels,predictions)"
   ]
  }
 ],
 "metadata": {
  "kernelspec": {
   "display_name": "Python 3",
   "language": "python",
   "name": "python3"
  },
  "language_info": {
   "codemirror_mode": {
    "name": "ipython",
    "version": 3
   },
   "file_extension": ".py",
   "mimetype": "text/x-python",
   "name": "python",
   "nbconvert_exporter": "python",
   "pygments_lexer": "ipython3",
   "version": "3.6.9"
  }
 },
 "nbformat": 4,
 "nbformat_minor": 2
}
